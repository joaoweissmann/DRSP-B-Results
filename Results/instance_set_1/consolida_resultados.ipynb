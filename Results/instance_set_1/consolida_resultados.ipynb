{
 "cells": [
  {
   "cell_type": "markdown",
   "metadata": {},
   "source": [
    "# Importa bibliotecas"
   ]
  },
  {
   "cell_type": "code",
   "execution_count": 99,
   "metadata": {},
   "outputs": [],
   "source": [
    "import pandas as pd\n",
    "import numpy as np"
   ]
  },
  {
   "cell_type": "markdown",
   "metadata": {},
   "source": [
    "# Importa resultados MIP"
   ]
  },
  {
   "cell_type": "markdown",
   "metadata": {},
   "source": [
    "## CTP"
   ]
  },
  {
   "cell_type": "code",
   "execution_count": 100,
   "metadata": {},
   "outputs": [],
   "source": [
    "caminho_arquivo_mip_ctp = r\"C:\\Users\\B3R5\\OneDrive - PETROBRAS\\Documents\\JOAO\\Mestrado\\repo\\DRSP-B-master\\DRSP-B-master\\Resultados\\instance_set_1\\resultados_MIP_CTP_1hora.txt\""
   ]
  },
  {
   "cell_type": "code",
   "execution_count": 101,
   "metadata": {},
   "outputs": [],
   "source": [
    "nomes_colunas = ['Modelo', 'Instancia', 'FO', 'Status', 'UB', 'GAP (%)', 'Tempo (ms)']"
   ]
  },
  {
   "cell_type": "code",
   "execution_count": 102,
   "metadata": {},
   "outputs": [],
   "source": [
    "df_mip_ctp = pd.read_csv(caminho_arquivo_mip_ctp, sep=' ', header=None, names=nomes_colunas)"
   ]
  },
  {
   "cell_type": "code",
   "execution_count": null,
   "metadata": {},
   "outputs": [],
   "source": [
    "df_mip_ctp.head()"
   ]
  },
  {
   "cell_type": "code",
   "execution_count": null,
   "metadata": {},
   "outputs": [],
   "source": [
    "df_mip_ctp.describe()"
   ]
  },
  {
   "cell_type": "markdown",
   "metadata": {},
   "source": [
    "## CTP: relaxação linear"
   ]
  },
  {
   "cell_type": "code",
   "execution_count": 105,
   "metadata": {},
   "outputs": [],
   "source": [
    "caminho_arquivo_mip_ctp_lin_relax = r\"C:\\Users\\B3R5\\OneDrive - PETROBRAS\\Documents\\JOAO\\Mestrado\\repo\\DRSP-B-master\\DRSP-B-master\\Resultados\\instance_set_1\\resultados_MIP_CTP_1hora_linearRelax.txt\""
   ]
  },
  {
   "cell_type": "code",
   "execution_count": 106,
   "metadata": {},
   "outputs": [],
   "source": [
    "nomes_colunas = ['Modelo', 'Instancia', 'FO', 'Status', 'UB', 'GAP (%)', 'Tempo (ms)']"
   ]
  },
  {
   "cell_type": "code",
   "execution_count": 107,
   "metadata": {},
   "outputs": [],
   "source": [
    "df_mip_ctp_lin_relax = pd.read_csv(caminho_arquivo_mip_ctp_lin_relax, sep=' ', header=None, names=nomes_colunas)"
   ]
  },
  {
   "cell_type": "code",
   "execution_count": null,
   "metadata": {},
   "outputs": [],
   "source": [
    "df_mip_ctp_lin_relax.head()"
   ]
  },
  {
   "cell_type": "markdown",
   "metadata": {},
   "source": [
    "## TI"
   ]
  },
  {
   "cell_type": "code",
   "execution_count": 109,
   "metadata": {},
   "outputs": [],
   "source": [
    "caminho_arquivo_mip_ti = r\"C:\\Users\\B3R5\\OneDrive - PETROBRAS\\Documents\\JOAO\\Mestrado\\repo\\DRSP-B-master\\DRSP-B-master\\Resultados\\instance_set_1\\resultados_MIP_TI_1hora.txt\""
   ]
  },
  {
   "cell_type": "code",
   "execution_count": 110,
   "metadata": {},
   "outputs": [],
   "source": [
    "nomes_colunas = ['Modelo', 'Instancia', 'FO', 'Status', 'UB', 'GAP (%)', 'Tempo (ms)']"
   ]
  },
  {
   "cell_type": "code",
   "execution_count": 111,
   "metadata": {},
   "outputs": [],
   "source": [
    "df_mip_ti = pd.read_csv(caminho_arquivo_mip_ti, sep=' ', header=None, names=nomes_colunas)"
   ]
  },
  {
   "cell_type": "code",
   "execution_count": null,
   "metadata": {},
   "outputs": [],
   "source": [
    "df_mip_ti.head()"
   ]
  },
  {
   "cell_type": "code",
   "execution_count": null,
   "metadata": {},
   "outputs": [],
   "source": [
    "df_mip_ti.describe()"
   ]
  },
  {
   "cell_type": "markdown",
   "metadata": {},
   "source": [
    "## TI: relaxação linear"
   ]
  },
  {
   "cell_type": "code",
   "execution_count": 114,
   "metadata": {},
   "outputs": [],
   "source": [
    "caminho_arquivo_mip_ti_lin_relax = r\"C:\\Users\\B3R5\\OneDrive - PETROBRAS\\Documents\\JOAO\\Mestrado\\repo\\DRSP-B-master\\DRSP-B-master\\Resultados\\instance_set_1\\resultados_MIP_TI_1hora_linearRelax.txt\""
   ]
  },
  {
   "cell_type": "code",
   "execution_count": 115,
   "metadata": {},
   "outputs": [],
   "source": [
    "nomes_colunas = ['Modelo', 'Instancia', 'FO', 'Status', 'UB', 'GAP (%)', 'Tempo (ms)']"
   ]
  },
  {
   "cell_type": "code",
   "execution_count": 116,
   "metadata": {},
   "outputs": [],
   "source": [
    "df_mip_ti_lin_relax = pd.read_csv(caminho_arquivo_mip_ti_lin_relax, sep=' ', header=None, names=nomes_colunas)"
   ]
  },
  {
   "cell_type": "code",
   "execution_count": null,
   "metadata": {},
   "outputs": [],
   "source": [
    "df_mip_ti_lin_relax.head()"
   ]
  },
  {
   "cell_type": "markdown",
   "metadata": {},
   "source": [
    "# Importa resultados heurísticas"
   ]
  },
  {
   "cell_type": "markdown",
   "metadata": {},
   "source": [
    "## RVND"
   ]
  },
  {
   "cell_type": "code",
   "execution_count": 118,
   "metadata": {},
   "outputs": [],
   "source": [
    "caminho_arquivo_mh_rvnd = r\"C:\\Users\\B3R5\\OneDrive - PETROBRAS\\Documents\\JOAO\\Mestrado\\repo\\DRSP-B-master\\DRSP-B-master\\Resultados\\instance_set_1\\resultados_MH_RVND.txt\""
   ]
  },
  {
   "cell_type": "code",
   "execution_count": 119,
   "metadata": {},
   "outputs": [],
   "source": [
    "df_mh_rvnd = pd.read_csv(caminho_arquivo_mh_rvnd, sep=' ')"
   ]
  },
  {
   "cell_type": "code",
   "execution_count": null,
   "metadata": {},
   "outputs": [],
   "source": [
    "df_mh_rvnd.head()"
   ]
  },
  {
   "cell_type": "code",
   "execution_count": null,
   "metadata": {},
   "outputs": [],
   "source": [
    "df_mh_rvnd.describe()"
   ]
  },
  {
   "cell_type": "markdown",
   "metadata": {},
   "source": [
    "## VND"
   ]
  },
  {
   "cell_type": "code",
   "execution_count": 122,
   "metadata": {},
   "outputs": [],
   "source": [
    "caminho_arquivo_mh_vnd = r\"C:\\Users\\B3R5\\OneDrive - PETROBRAS\\Documents\\JOAO\\Mestrado\\repo\\DRSP-B-master\\DRSP-B-master\\Resultados\\instance_set_1\\resultados_MH_VND.txt\""
   ]
  },
  {
   "cell_type": "code",
   "execution_count": 123,
   "metadata": {},
   "outputs": [],
   "source": [
    "df_mh_vnd = pd.read_csv(caminho_arquivo_mh_vnd, sep=' ')"
   ]
  },
  {
   "cell_type": "code",
   "execution_count": null,
   "metadata": {},
   "outputs": [],
   "source": [
    "df_mh_vnd.head()"
   ]
  },
  {
   "cell_type": "code",
   "execution_count": null,
   "metadata": {},
   "outputs": [],
   "source": [
    "df_mh_vnd.describe()"
   ]
  },
  {
   "cell_type": "markdown",
   "metadata": {},
   "source": [
    "## Busca local"
   ]
  },
  {
   "cell_type": "code",
   "execution_count": 126,
   "metadata": {},
   "outputs": [],
   "source": [
    "caminho_arquivo_mh_busca_local = r\"C:\\Users\\B3R5\\OneDrive - PETROBRAS\\Documents\\JOAO\\Mestrado\\repo\\DRSP-B-master\\DRSP-B-master\\Resultados\\instance_set_1\\resultados_MH_buscaLocal.txt\""
   ]
  },
  {
   "cell_type": "code",
   "execution_count": 127,
   "metadata": {},
   "outputs": [],
   "source": [
    "df_mh_busca_local = pd.read_csv(caminho_arquivo_mh_busca_local, sep=' ')"
   ]
  },
  {
   "cell_type": "code",
   "execution_count": null,
   "metadata": {},
   "outputs": [],
   "source": [
    "df_mh_busca_local.head()"
   ]
  },
  {
   "cell_type": "code",
   "execution_count": null,
   "metadata": {},
   "outputs": [],
   "source": [
    "df_mh_busca_local.describe()"
   ]
  },
  {
   "cell_type": "markdown",
   "metadata": {},
   "source": [
    "# Consolida resultados"
   ]
  },
  {
   "cell_type": "markdown",
   "metadata": {},
   "source": [
    "## Constrói DataFrame inicial"
   ]
  },
  {
   "cell_type": "code",
   "execution_count": 130,
   "metadata": {},
   "outputs": [],
   "source": [
    "df_consolida = pd.DataFrame({'Instancia': df_mip_ctp['Instancia'].unique()})"
   ]
  },
  {
   "cell_type": "code",
   "execution_count": null,
   "metadata": {},
   "outputs": [],
   "source": [
    "df_consolida.head()"
   ]
  },
  {
   "cell_type": "code",
   "execution_count": 132,
   "metadata": {},
   "outputs": [],
   "source": [
    "df_consolida[\"Projetos\"] = df_consolida.Instancia.str.extract(r'(\\d+)p_')"
   ]
  },
  {
   "cell_type": "code",
   "execution_count": 133,
   "metadata": {},
   "outputs": [],
   "source": [
    "df_consolida[\"Sondas\"] = df_consolida.Instancia.str.extract(r'_(\\d+)s_')"
   ]
  },
  {
   "cell_type": "code",
   "execution_count": 134,
   "metadata": {},
   "outputs": [],
   "source": [
    "df_consolida[\"DeltaT\"] = df_consolida.Instancia.str.extract(r'_(\\d+)dt')"
   ]
  },
  {
   "cell_type": "code",
   "execution_count": null,
   "metadata": {},
   "outputs": [],
   "source": [
    "df_consolida.head()"
   ]
  },
  {
   "cell_type": "code",
   "execution_count": 136,
   "metadata": {},
   "outputs": [],
   "source": [
    "df_consolida[\"Projetos\"] = df_consolida[\"Projetos\"].astype(int)\n",
    "df_consolida[\"Sondas\"] = df_consolida[\"Sondas\"].astype(int)\n",
    "df_consolida[\"DeltaT\"] = df_consolida[\"DeltaT\"].astype(int)"
   ]
  },
  {
   "cell_type": "markdown",
   "metadata": {},
   "source": [
    "## Busca informações MIP"
   ]
  },
  {
   "cell_type": "code",
   "execution_count": 137,
   "metadata": {},
   "outputs": [],
   "source": [
    "df_consolida['CTP FO'] = df_consolida['Instancia'].map(df_mip_ctp.set_index('Instancia')['FO'])"
   ]
  },
  {
   "cell_type": "code",
   "execution_count": 138,
   "metadata": {},
   "outputs": [],
   "source": [
    "df_consolida['CTP Tempo (ms)'] = df_consolida['Instancia'].map(df_mip_ctp.set_index('Instancia')['Tempo (ms)'])"
   ]
  },
  {
   "cell_type": "code",
   "execution_count": 139,
   "metadata": {},
   "outputs": [],
   "source": [
    "df_consolida['CTP Status'] = df_consolida['Instancia'].map(df_mip_ctp.set_index('Instancia')['Status'])"
   ]
  },
  {
   "cell_type": "code",
   "execution_count": 140,
   "metadata": {},
   "outputs": [],
   "source": [
    "df_consolida['CTP GAP (%)'] = df_consolida['Instancia'].map(df_mip_ctp.set_index('Instancia')['GAP (%)'])"
   ]
  },
  {
   "cell_type": "code",
   "execution_count": 141,
   "metadata": {},
   "outputs": [],
   "source": [
    "df_consolida['TI FO'] = df_consolida['Instancia'].map(df_mip_ti.set_index('Instancia')['FO'])"
   ]
  },
  {
   "cell_type": "code",
   "execution_count": 142,
   "metadata": {},
   "outputs": [],
   "source": [
    "df_consolida['TI Tempo (ms)'] = df_consolida['Instancia'].map(df_mip_ti.set_index('Instancia')['Tempo (ms)'])"
   ]
  },
  {
   "cell_type": "code",
   "execution_count": 143,
   "metadata": {},
   "outputs": [],
   "source": [
    "df_consolida['TI Status'] = df_consolida['Instancia'].map(df_mip_ti.set_index('Instancia')['Status'])"
   ]
  },
  {
   "cell_type": "code",
   "execution_count": 144,
   "metadata": {},
   "outputs": [],
   "source": [
    "df_consolida['TI GAP (%)'] = df_consolida['Instancia'].map(df_mip_ti.set_index('Instancia')['GAP (%)'])"
   ]
  },
  {
   "cell_type": "code",
   "execution_count": null,
   "metadata": {},
   "outputs": [],
   "source": [
    "df_consolida.head()"
   ]
  },
  {
   "cell_type": "code",
   "execution_count": null,
   "metadata": {},
   "outputs": [],
   "source": [
    "df_consolida[\"TI FO\"].fillna(-1, inplace=True)"
   ]
  },
  {
   "cell_type": "code",
   "execution_count": null,
   "metadata": {},
   "outputs": [],
   "source": [
    "df_consolida.head()"
   ]
  },
  {
   "cell_type": "markdown",
   "metadata": {},
   "source": [
    "## Compara modelos MIP"
   ]
  },
  {
   "cell_type": "code",
   "execution_count": 148,
   "metadata": {},
   "outputs": [],
   "source": [
    "df_consolida['Best MIP'] = df_consolida.apply(lambda row: 'CTP' if row['CTP FO'] > row['TI FO'] else 'TI' if row['TI FO'] > row['CTP FO'] else 'Empate', axis=1)"
   ]
  },
  {
   "cell_type": "code",
   "execution_count": null,
   "metadata": {},
   "outputs": [],
   "source": [
    "df_consolida.head()"
   ]
  },
  {
   "cell_type": "code",
   "execution_count": 150,
   "metadata": {},
   "outputs": [],
   "source": [
    "df_consolida[\"Best MIP FO\"] = df_consolida.apply(lambda row: row['CTP FO'] if row['Best MIP'] == 'CTP' else row['TI FO'], axis=1)"
   ]
  },
  {
   "cell_type": "code",
   "execution_count": 151,
   "metadata": {},
   "outputs": [],
   "source": [
    "df_consolida[\"Best MIP Tempo (ms)\"] = df_consolida.apply(lambda row: row['CTP Tempo (ms)'] if row['Best MIP'] == 'CTP' else row['TI Tempo (ms)'], axis=1)"
   ]
  },
  {
   "cell_type": "code",
   "execution_count": 152,
   "metadata": {},
   "outputs": [],
   "source": [
    "df_consolida[\"Best MIP Status\"] = df_consolida.apply(lambda row: row['CTP Status'] if row['Best MIP'] == 'CTP' else row['TI Status'], axis=1)"
   ]
  },
  {
   "cell_type": "code",
   "execution_count": null,
   "metadata": {},
   "outputs": [],
   "source": [
    "df_consolida.head()"
   ]
  },
  {
   "cell_type": "code",
   "execution_count": null,
   "metadata": {},
   "outputs": [],
   "source": [
    "df_consolida[\"CTP Status\"].value_counts()"
   ]
  },
  {
   "cell_type": "code",
   "execution_count": null,
   "metadata": {},
   "outputs": [],
   "source": [
    "df_consolida[\"TI Status\"].value_counts()"
   ]
  },
  {
   "cell_type": "code",
   "execution_count": null,
   "metadata": {},
   "outputs": [],
   "source": [
    "df_consolida[\"CTP GAP (%)\"].describe()"
   ]
  },
  {
   "cell_type": "code",
   "execution_count": null,
   "metadata": {},
   "outputs": [],
   "source": [
    "df_consolida[\"TI GAP (%)\"].describe()"
   ]
  },
  {
   "cell_type": "code",
   "execution_count": null,
   "metadata": {},
   "outputs": [],
   "source": [
    "df_consolida[\"Best MIP\"].value_counts()"
   ]
  },
  {
   "cell_type": "code",
   "execution_count": null,
   "metadata": {},
   "outputs": [],
   "source": [
    "df_consolida[\"Best MIP Status\"].value_counts()"
   ]
  },
  {
   "cell_type": "markdown",
   "metadata": {},
   "source": [
    "## Busca informações das heurísticas"
   ]
  },
  {
   "cell_type": "markdown",
   "metadata": {},
   "source": [
    "### GRASP adaptativo RVND"
   ]
  },
  {
   "cell_type": "code",
   "execution_count": 160,
   "metadata": {},
   "outputs": [],
   "source": [
    "mask = (df_mh_rvnd[\"Algoritmo\"] == \"GRASP_ada\") & (df_mh_rvnd[\"modoBusca\"] == 14)\n",
    "df_graspada_rvnd = df_mh_rvnd[mask]"
   ]
  },
  {
   "cell_type": "code",
   "execution_count": 161,
   "metadata": {},
   "outputs": [],
   "source": [
    "df_consolida['GRASP_ada RVND FO'] = df_consolida['Instancia'].map(df_graspada_rvnd.set_index('Arquivo')['fitness'])"
   ]
  },
  {
   "cell_type": "code",
   "execution_count": 162,
   "metadata": {},
   "outputs": [],
   "source": [
    "df_consolida['GRASP_ada RVND Tempo (ms)'] = df_consolida['Instancia'].map(df_graspada_rvnd.set_index('Arquivo')['tempo'])"
   ]
  },
  {
   "cell_type": "markdown",
   "metadata": {},
   "source": [
    "### ILS adaptativo RVND"
   ]
  },
  {
   "cell_type": "code",
   "execution_count": 163,
   "metadata": {},
   "outputs": [],
   "source": [
    "mask = (df_mh_rvnd[\"Algoritmo\"] == \"ILS_ada\") & (df_mh_rvnd[\"modoBusca\"] == 14)\n",
    "df_ilsada_rvnd = df_mh_rvnd[mask]"
   ]
  },
  {
   "cell_type": "code",
   "execution_count": 164,
   "metadata": {},
   "outputs": [],
   "source": [
    "df_consolida['ILS_ada RVND FO'] = df_consolida['Instancia'].map(df_ilsada_rvnd.set_index('Arquivo')['fitness'])"
   ]
  },
  {
   "cell_type": "code",
   "execution_count": 165,
   "metadata": {},
   "outputs": [],
   "source": [
    "df_consolida['ILS_ada RVND Tempo (ms)'] = df_consolida['Instancia'].map(df_ilsada_rvnd.set_index('Arquivo')['tempo'])"
   ]
  },
  {
   "cell_type": "code",
   "execution_count": null,
   "metadata": {},
   "outputs": [],
   "source": [
    "df_consolida.head()"
   ]
  },
  {
   "cell_type": "markdown",
   "metadata": {},
   "source": [
    "## Compara heurísticas"
   ]
  },
  {
   "cell_type": "code",
   "execution_count": 167,
   "metadata": {},
   "outputs": [],
   "source": [
    "df_consolida[\"Best MH\"] = df_consolida.apply(lambda row: \"GRASP_ada\" if row[\"GRASP_ada RVND FO\"] > row[\"ILS_ada RVND FO\"] else \"ILS_ada\" if row[\"ILS_ada RVND FO\"] > row[\"GRASP_ada RVND FO\"] else \"Empate\", axis=1)"
   ]
  },
  {
   "cell_type": "code",
   "execution_count": null,
   "metadata": {},
   "outputs": [],
   "source": [
    "df_consolida.head()"
   ]
  },
  {
   "cell_type": "code",
   "execution_count": null,
   "metadata": {},
   "outputs": [],
   "source": [
    "df_consolida[\"Best MH\"].value_counts()"
   ]
  },
  {
   "cell_type": "code",
   "execution_count": null,
   "metadata": {},
   "outputs": [],
   "source": [
    "df_consolida[\"GRASP_ada RVND Tempo (ms)\"].describe()"
   ]
  },
  {
   "cell_type": "code",
   "execution_count": null,
   "metadata": {},
   "outputs": [],
   "source": [
    "df_consolida[\"ILS_ada RVND Tempo (ms)\"].describe()"
   ]
  },
  {
   "cell_type": "markdown",
   "metadata": {},
   "source": [
    "# Compara MIP com heurísticas"
   ]
  },
  {
   "cell_type": "code",
   "execution_count": 172,
   "metadata": {},
   "outputs": [],
   "source": [
    "df_consolida[\"GAP\"] = ((df_consolida[\"Best MIP FO\"] - df_consolida[\"GRASP_ada RVND FO\"])*100) / df_consolida[\"Best MIP FO\"]"
   ]
  },
  {
   "cell_type": "code",
   "execution_count": null,
   "metadata": {},
   "outputs": [],
   "source": [
    "df_consolida[\"GAP\"].describe()"
   ]
  },
  {
   "cell_type": "markdown",
   "metadata": {},
   "source": [
    "# Constrói tabelas finais"
   ]
  },
  {
   "cell_type": "code",
   "execution_count": 174,
   "metadata": {},
   "outputs": [],
   "source": [
    "mask = (df_consolida[\"Projetos\"] <= 100) | (df_consolida[\"Projetos\"] >= 200)\n",
    "df_all = df_consolida[mask]"
   ]
  },
  {
   "cell_type": "code",
   "execution_count": null,
   "metadata": {},
   "outputs": [],
   "source": [
    "df_all.shape"
   ]
  },
  {
   "cell_type": "code",
   "execution_count": null,
   "metadata": {},
   "outputs": [],
   "source": [
    "df_all[\"CTP Status\"].value_counts()"
   ]
  },
  {
   "cell_type": "code",
   "execution_count": null,
   "metadata": {},
   "outputs": [],
   "source": [
    "mask = df_all[\"CTP Status\"] != \"Optimal\"\n",
    "df_all[mask][\"CTP GAP (%)\"].describe()"
   ]
  },
  {
   "cell_type": "code",
   "execution_count": null,
   "metadata": {},
   "outputs": [],
   "source": [
    "df_all[\"TI Status\"].value_counts()"
   ]
  },
  {
   "cell_type": "code",
   "execution_count": null,
   "metadata": {},
   "outputs": [],
   "source": [
    "mask = df_all[\"TI Status\"] != \"Optimal\"\n",
    "df_all[mask][\"TI GAP (%)\"].describe()"
   ]
  },
  {
   "cell_type": "code",
   "execution_count": null,
   "metadata": {},
   "outputs": [],
   "source": [
    "df_all[\"Best MIP\"].value_counts()"
   ]
  },
  {
   "cell_type": "code",
   "execution_count": null,
   "metadata": {},
   "outputs": [],
   "source": [
    "pd.crosstab(df_all[\"Best MIP\"], df_all[\"DeltaT\"], margins=True, margins_name='Total')"
   ]
  },
  {
   "cell_type": "code",
   "execution_count": null,
   "metadata": {},
   "outputs": [],
   "source": [
    "df_all[\"time_bks\"] = df_all.apply(lambda row: row[\"Best MIP Tempo (ms)\"]/1000 if row[\"Best MIP Status\"]==\"Optimal\" else \"-\", axis=1)"
   ]
  },
  {
   "cell_type": "code",
   "execution_count": null,
   "metadata": {},
   "outputs": [],
   "source": [
    "df_all[\"time_mh\"] = df_all[\"GRASP_ada RVND Tempo (ms)\"] / 1000"
   ]
  },
  {
   "cell_type": "code",
   "execution_count": 184,
   "metadata": {},
   "outputs": [],
   "source": [
    "mask = df_all[\"Projetos\"] <= 100\n",
    "df_small = df_all[mask]"
   ]
  },
  {
   "cell_type": "code",
   "execution_count": 185,
   "metadata": {},
   "outputs": [],
   "source": [
    "mask = df_all[\"Projetos\"] >= 200\n",
    "df_big = df_all[mask]"
   ]
  },
  {
   "cell_type": "code",
   "execution_count": null,
   "metadata": {},
   "outputs": [],
   "source": [
    "df_small[[\"Projetos\", \"Sondas\", \"DeltaT\", \"Best MIP FO\", \"time_bks\", \"GRASP_ada RVND FO\", \"time_mh\", \"GAP\"]].sort_values(by=['Projetos', 'Sondas', 'DeltaT'], ascending=[True, True, False])"
   ]
  },
  {
   "cell_type": "code",
   "execution_count": null,
   "metadata": {},
   "outputs": [],
   "source": [
    "df_small_ord = df_small[[\"Projetos\", \"Sondas\", \"DeltaT\", \"Best MIP FO\", \"time_bks\", \"GRASP_ada RVND FO\", \"time_mh\", \"GAP\"]].sort_values(by=['Projetos', 'Sondas', 'DeltaT'], ascending=[True, True, False])\n",
    "print(df_small_ord.to_latex(index=False))"
   ]
  },
  {
   "cell_type": "code",
   "execution_count": null,
   "metadata": {},
   "outputs": [],
   "source": [
    "mask = df_small[\"GAP\"] < 0\n",
    "df_count = df_small[mask]\n",
    "print (100 * df_count.shape[0] / df_small.shape[0], \"%\")\n",
    "print (df_count[\"GAP\"].mean())"
   ]
  },
  {
   "cell_type": "code",
   "execution_count": null,
   "metadata": {},
   "outputs": [],
   "source": [
    "mask = df_small[\"GAP\"] == 0\n",
    "df_count = df_small[mask]\n",
    "print (df_count.shape[0] / df_small.shape[0], \"%\")\n",
    "print (df_count[\"GAP\"].mean())"
   ]
  },
  {
   "cell_type": "code",
   "execution_count": null,
   "metadata": {},
   "outputs": [],
   "source": [
    "mask = df_small[\"GAP\"] > 0\n",
    "df_count = df_small[mask]\n",
    "print (df_count.shape[0] / df_small.shape[0], \"%\")\n",
    "print (df_count[\"GAP\"].mean())"
   ]
  },
  {
   "cell_type": "code",
   "execution_count": null,
   "metadata": {},
   "outputs": [],
   "source": [
    "df_small[\"time_mh\"].sum()"
   ]
  },
  {
   "cell_type": "code",
   "execution_count": null,
   "metadata": {},
   "outputs": [],
   "source": [
    "df_big[[\"Projetos\", \"Sondas\", \"DeltaT\", \"Best MIP FO\", \"time_bks\", \"GRASP_ada RVND FO\", \"time_mh\", \"GAP\"]].sort_values(by=['Projetos', 'Sondas', 'DeltaT'], ascending=[True, True, False])"
   ]
  },
  {
   "cell_type": "code",
   "execution_count": null,
   "metadata": {},
   "outputs": [],
   "source": [
    "df_big_ord = df_big[[\"Projetos\", \"Sondas\", \"DeltaT\", \"Best MIP FO\", \"time_bks\", \"GRASP_ada RVND FO\", \"time_mh\", \"GAP\"]].sort_values(by=['Projetos', 'Sondas', 'DeltaT'], ascending=[True, True, False])\n",
    "print(df_big_ord.to_latex(index=False))"
   ]
  },
  {
   "cell_type": "code",
   "execution_count": null,
   "metadata": {},
   "outputs": [],
   "source": [
    "mask = df_big[\"GAP\"] < 0\n",
    "df_count = df_big[mask]\n",
    "print (df_count.shape[0] / df_big.shape[0], \"%\")\n",
    "print (df_count[\"GAP\"].mean())\n",
    "print (df_count[\"GAP\"].min())"
   ]
  },
  {
   "cell_type": "code",
   "execution_count": null,
   "metadata": {},
   "outputs": [],
   "source": [
    "df_big[\"time_mh\"].sum()"
   ]
  },
  {
   "cell_type": "code",
   "execution_count": null,
   "metadata": {},
   "outputs": [],
   "source": [
    "df_big[\"time_mh\"].mean()"
   ]
  },
  {
   "cell_type": "code",
   "execution_count": null,
   "metadata": {},
   "outputs": [],
   "source": []
  }
 ],
 "metadata": {
  "kernelspec": {
   "display_name": "base-joao",
   "language": "python",
   "name": "python3"
  },
  "language_info": {
   "codemirror_mode": {
    "name": "ipython",
    "version": 3
   },
   "file_extension": ".py",
   "mimetype": "text/x-python",
   "name": "python",
   "nbconvert_exporter": "python",
   "pygments_lexer": "ipython3",
   "version": "3.10.14"
  }
 },
 "nbformat": 4,
 "nbformat_minor": 2
}
